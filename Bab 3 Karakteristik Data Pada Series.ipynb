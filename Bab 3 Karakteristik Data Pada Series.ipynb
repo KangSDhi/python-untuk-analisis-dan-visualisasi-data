{
 "cells": [
  {
   "cell_type": "code",
   "execution_count": 1,
   "metadata": {
    "collapsed": true,
    "ExecuteTime": {
     "end_time": "2023-05-25T03:22:25.200102687Z",
     "start_time": "2023-05-25T03:22:24.987433053Z"
    }
   },
   "outputs": [],
   "source": [
    "import pandas as pd"
   ]
  },
  {
   "cell_type": "code",
   "execution_count": 2,
   "outputs": [],
   "source": [
    "teman = ['Joni Gudel', 'Edi Yunani', 'Toni Sulung', 'Retno Mimin']"
   ],
   "metadata": {
    "collapsed": false,
    "ExecuteTime": {
     "end_time": "2023-05-25T03:22:38.294563854Z",
     "start_time": "2023-05-25T03:22:38.271509179Z"
    }
   }
  },
  {
   "cell_type": "code",
   "execution_count": 9,
   "outputs": [],
   "source": [
    "temanakrab = {0: 'Joni Gudel', 1: 'Edi Yunani', 2: 'Toni Sulung', 3: 'Retno Mimin'}"
   ],
   "metadata": {
    "collapsed": false,
    "ExecuteTime": {
     "end_time": "2023-05-25T03:26:43.022467817Z",
     "start_time": "2023-05-25T03:26:43.001771391Z"
    }
   }
  },
  {
   "cell_type": "code",
   "execution_count": 4,
   "outputs": [],
   "source": [
    "a = pd.Series(teman)\n",
    "b = pd.Series(temanakrab)"
   ],
   "metadata": {
    "collapsed": false,
    "ExecuteTime": {
     "end_time": "2023-05-25T03:24:09.636011547Z",
     "start_time": "2023-05-25T03:24:09.587764681Z"
    }
   }
  },
  {
   "cell_type": "code",
   "execution_count": 5,
   "outputs": [
    {
     "data": {
      "text/plain": "True"
     },
     "execution_count": 5,
     "metadata": {},
     "output_type": "execute_result"
    }
   ],
   "source": [
    "a.equals(b)"
   ],
   "metadata": {
    "collapsed": false,
    "ExecuteTime": {
     "end_time": "2023-05-25T03:24:17.643132236Z",
     "start_time": "2023-05-25T03:24:17.615907810Z"
    }
   }
  },
  {
   "cell_type": "code",
   "execution_count": 10,
   "outputs": [
    {
     "data": {
      "text/plain": "0     Joni Gudel\n1     Edi Yunani\n2    Toni Sulung\n3    Retno Mimin\ndtype: object"
     },
     "execution_count": 10,
     "metadata": {},
     "output_type": "execute_result"
    }
   ],
   "source": [
    "pd.Series(temanakrab)"
   ],
   "metadata": {
    "collapsed": false,
    "ExecuteTime": {
     "end_time": "2023-05-25T03:26:46.539418495Z",
     "start_time": "2023-05-25T03:26:46.517287128Z"
    }
   }
  },
  {
   "cell_type": "code",
   "execution_count": 11,
   "outputs": [
    {
     "data": {
      "text/plain": "teman1     Joni Gudel\nteman2     Edi Yunani\nteman3    Toni Sulung\nteman4    Retno Mimin\ndtype: object"
     },
     "execution_count": 11,
     "metadata": {},
     "output_type": "execute_result"
    }
   ],
   "source": [
    "pd.Series(data=teman, index=['teman1', 'teman2', 'teman3', 'teman4'])"
   ],
   "metadata": {
    "collapsed": false,
    "ExecuteTime": {
     "end_time": "2023-05-25T03:28:32.612059052Z",
     "start_time": "2023-05-25T03:28:32.572869540Z"
    }
   }
  },
  {
   "cell_type": "code",
   "execution_count": 12,
   "outputs": [
    {
     "data": {
      "text/plain": "0     Joni Gudel\n1     Edi Yunani\n2    Toni Sulung\n3    Retno Mimin\ndtype: object"
     },
     "execution_count": 12,
     "metadata": {},
     "output_type": "execute_result"
    }
   ],
   "source": [
    "pd.Series(data=teman)"
   ],
   "metadata": {
    "collapsed": false,
    "ExecuteTime": {
     "end_time": "2023-05-25T03:29:09.519455247Z",
     "start_time": "2023-05-25T03:29:09.500535942Z"
    }
   }
  },
  {
   "cell_type": "code",
   "execution_count": 13,
   "outputs": [
    {
     "data": {
      "text/plain": "0     Joni Gudel\n1     Edi Yunani\n2    Toni Sulung\n3    Retno Mimin\nName: Daftar Nama Teman, dtype: object"
     },
     "execution_count": 13,
     "metadata": {},
     "output_type": "execute_result"
    }
   ],
   "source": [
    "namaTeman = pd.Series(teman)\n",
    "namaTeman.name = 'Daftar Nama Teman'\n",
    "namaTeman"
   ],
   "metadata": {
    "collapsed": false,
    "ExecuteTime": {
     "end_time": "2023-05-25T03:30:34.635935886Z",
     "start_time": "2023-05-25T03:30:34.594170368Z"
    }
   }
  },
  {
   "cell_type": "code",
   "execution_count": 15,
   "outputs": [
    {
     "data": {
      "text/plain": "0      0\n1      1\n2      2\n3      3\n4      4\n      ..\n95    95\n96    96\n97    97\n98    98\n99    99\nLength: 100, dtype: int64"
     },
     "execution_count": 15,
     "metadata": {},
     "output_type": "execute_result"
    }
   ],
   "source": [
    "angka = pd.Series(range(100))\n",
    "angka"
   ],
   "metadata": {
    "collapsed": false,
    "ExecuteTime": {
     "end_time": "2023-05-25T03:31:40.665081612Z",
     "start_time": "2023-05-25T03:31:40.621240401Z"
    }
   }
  },
  {
   "cell_type": "code",
   "execution_count": 18,
   "outputs": [
    {
     "data": {
      "text/plain": "0    0\n1    1\n2    2\n3    3\n4    4\n5    5\n6    6\n7    7\n8    8\n9    9\ndtype: int64"
     },
     "execution_count": 18,
     "metadata": {},
     "output_type": "execute_result"
    }
   ],
   "source": [
    "angka.head(10)"
   ],
   "metadata": {
    "collapsed": false,
    "ExecuteTime": {
     "end_time": "2023-05-25T03:32:25.747961874Z",
     "start_time": "2023-05-25T03:32:25.705272169Z"
    }
   }
  },
  {
   "cell_type": "code",
   "execution_count": 19,
   "outputs": [
    {
     "data": {
      "text/plain": "90    90\n91    91\n92    92\n93    93\n94    94\n95    95\n96    96\n97    97\n98    98\n99    99\ndtype: int64"
     },
     "execution_count": 19,
     "metadata": {},
     "output_type": "execute_result"
    }
   ],
   "source": [
    "angka.tail(10)"
   ],
   "metadata": {
    "collapsed": false,
    "ExecuteTime": {
     "end_time": "2023-05-25T03:32:34.243666660Z",
     "start_time": "2023-05-25T03:32:34.235400003Z"
    }
   }
  },
  {
   "cell_type": "code",
   "execution_count": null,
   "outputs": [],
   "source": [],
   "metadata": {
    "collapsed": false
   }
  }
 ],
 "metadata": {
  "kernelspec": {
   "display_name": "Python 3",
   "language": "python",
   "name": "python3"
  },
  "language_info": {
   "codemirror_mode": {
    "name": "ipython",
    "version": 2
   },
   "file_extension": ".py",
   "mimetype": "text/x-python",
   "name": "python",
   "nbconvert_exporter": "python",
   "pygments_lexer": "ipython2",
   "version": "2.7.6"
  }
 },
 "nbformat": 4,
 "nbformat_minor": 0
}
