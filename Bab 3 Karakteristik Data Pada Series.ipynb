{
 "cells": [
  {
   "cell_type": "markdown",
   "source": [
    "# Bab 3 Karakteristik Data Pada Series\n",
    "\n",
    "## List dan Dictonary"
   ],
   "metadata": {
    "collapsed": false
   }
  },
  {
   "cell_type": "code",
   "execution_count": 1,
   "outputs": [],
   "source": [
    "import pandas as pd"
   ],
   "metadata": {
    "collapsed": false,
    "ExecuteTime": {
     "end_time": "2023-06-04T12:04:44.167555938Z",
     "start_time": "2023-06-04T12:04:43.752909784Z"
    }
   }
  },
  {
   "cell_type": "code",
   "execution_count": 2,
   "outputs": [],
   "source": [
    "teman = ['Joni Gudel', 'Edi Yunani', 'Toni Sulung', 'Retno Mimin']"
   ],
   "metadata": {
    "collapsed": false,
    "ExecuteTime": {
     "end_time": "2023-06-04T12:04:44.172300562Z",
     "start_time": "2023-06-04T12:04:44.170263360Z"
    }
   }
  },
  {
   "cell_type": "markdown",
   "source": [
    "### Membuat Series dari Dictonary"
   ],
   "metadata": {
    "collapsed": false
   }
  },
  {
   "cell_type": "code",
   "execution_count": 3,
   "outputs": [],
   "source": [
    "temanakrab = {0: 'Joni Gudel', 1: 'Edi Yunani', 2: 'Toni Sulung', 3: 'Retno Mimin'}"
   ],
   "metadata": {
    "collapsed": false,
    "ExecuteTime": {
     "end_time": "2023-06-04T12:04:44.177790581Z",
     "start_time": "2023-06-04T12:04:44.174574480Z"
    }
   }
  },
  {
   "cell_type": "code",
   "execution_count": 4,
   "outputs": [],
   "source": [
    "a = pd.Series(teman)\n",
    "b = pd.Series(temanakrab)"
   ],
   "metadata": {
    "collapsed": false,
    "ExecuteTime": {
     "end_time": "2023-06-04T12:04:44.182622235Z",
     "start_time": "2023-06-04T12:04:44.180596250Z"
    }
   }
  },
  {
   "cell_type": "markdown",
   "source": [
    "### Method Equal\n",
    "\n",
    "Pada Pandas, series yang dibuat menggunakan list maupun dictonary akan dianggap sama."
   ],
   "metadata": {
    "collapsed": false
   }
  },
  {
   "cell_type": "code",
   "execution_count": 5,
   "outputs": [
    {
     "data": {
      "text/plain": "True"
     },
     "execution_count": 5,
     "metadata": {},
     "output_type": "execute_result"
    }
   ],
   "source": [
    "a.equals(b)"
   ],
   "metadata": {
    "collapsed": false,
    "ExecuteTime": {
     "end_time": "2023-06-04T12:04:44.201986425Z",
     "start_time": "2023-06-04T12:04:44.189426551Z"
    }
   }
  },
  {
   "cell_type": "code",
   "execution_count": 6,
   "outputs": [
    {
     "data": {
      "text/plain": "0     Joni Gudel\n1     Edi Yunani\n2    Toni Sulung\n3    Retno Mimin\ndtype: object"
     },
     "execution_count": 6,
     "metadata": {},
     "output_type": "execute_result"
    }
   ],
   "source": [
    "pd.Series(temanakrab)"
   ],
   "metadata": {
    "collapsed": false,
    "ExecuteTime": {
     "end_time": "2023-06-04T12:04:44.289384761Z",
     "start_time": "2023-06-04T12:04:44.236623269Z"
    }
   }
  },
  {
   "cell_type": "markdown",
   "source": [
    "### Parameter Index\n",
    "\n",
    "Yang perlu menjadi catatan adalah index dalam bentuk teman1 samapai teman4 itu hanya digunakan untuk keperluan mempresentasikan data saja dan tidak menggantikan index aslinya secara permanen."
   ],
   "metadata": {
    "collapsed": false
   }
  },
  {
   "cell_type": "code",
   "execution_count": 7,
   "outputs": [
    {
     "data": {
      "text/plain": "teman1     Joni Gudel\nteman2     Edi Yunani\nteman3    Toni Sulung\nteman4    Retno Mimin\ndtype: object"
     },
     "execution_count": 7,
     "metadata": {},
     "output_type": "execute_result"
    }
   ],
   "source": [
    "pd.Series(data=teman, index=['teman1', 'teman2', 'teman3', 'teman4'])"
   ],
   "metadata": {
    "collapsed": false,
    "ExecuteTime": {
     "end_time": "2023-06-04T12:04:44.290085827Z",
     "start_time": "2023-06-04T12:04:44.237352708Z"
    }
   }
  },
  {
   "cell_type": "code",
   "execution_count": 8,
   "outputs": [
    {
     "data": {
      "text/plain": "0     Joni Gudel\n1     Edi Yunani\n2    Toni Sulung\n3    Retno Mimin\ndtype: object"
     },
     "execution_count": 8,
     "metadata": {},
     "output_type": "execute_result"
    }
   ],
   "source": [
    "pd.Series(data=teman)"
   ],
   "metadata": {
    "collapsed": false,
    "ExecuteTime": {
     "end_time": "2023-06-04T12:04:44.290448744Z",
     "start_time": "2023-06-04T12:04:44.237843256Z"
    }
   }
  },
  {
   "cell_type": "markdown",
   "source": [
    "## Atribut Name\n",
    "\n",
    "Atribut name dapat dimanfaatkan untuk memberi nama spesifik pada sebuah series. Dengan begitu, series it dapat dikenali fungsi dan tujuannnya."
   ],
   "metadata": {
    "collapsed": false
   }
  },
  {
   "cell_type": "code",
   "execution_count": 9,
   "outputs": [
    {
     "data": {
      "text/plain": "0     Joni Gudel\n1     Edi Yunani\n2    Toni Sulung\n3    Retno Mimin\nName: Daftar Nama Teman, dtype: object"
     },
     "execution_count": 9,
     "metadata": {},
     "output_type": "execute_result"
    }
   ],
   "source": [
    "namaTeman = pd.Series(teman)\n",
    "namaTeman.name = 'Daftar Nama Teman'\n",
    "namaTeman"
   ],
   "metadata": {
    "collapsed": false,
    "ExecuteTime": {
     "end_time": "2023-06-04T12:04:44.290784214Z",
     "start_time": "2023-06-04T12:04:44.238298721Z"
    }
   }
  },
  {
   "cell_type": "markdown",
   "source": [
    "## Method Head() dan Tail()"
   ],
   "metadata": {
    "collapsed": false
   }
  },
  {
   "cell_type": "code",
   "execution_count": 10,
   "outputs": [
    {
     "data": {
      "text/plain": "0      0\n1      1\n2      2\n3      3\n4      4\n      ..\n95    95\n96    96\n97    97\n98    98\n99    99\nLength: 100, dtype: int64"
     },
     "execution_count": 10,
     "metadata": {},
     "output_type": "execute_result"
    }
   ],
   "source": [
    "angka = pd.Series(range(100))\n",
    "angka"
   ],
   "metadata": {
    "collapsed": false,
    "ExecuteTime": {
     "end_time": "2023-06-04T12:04:44.291556844Z",
     "start_time": "2023-06-04T12:04:44.238583835Z"
    }
   }
  },
  {
   "cell_type": "code",
   "execution_count": 19,
   "outputs": [
    {
     "data": {
      "text/plain": "0    0\n1    1\n2    2\n3    3\n4    4\n5    5\n6    6\n7    7\n8    8\n9    9\ndtype: int64"
     },
     "execution_count": 19,
     "metadata": {},
     "output_type": "execute_result"
    }
   ],
   "source": [
    "angka.head(10)"
   ],
   "metadata": {
    "collapsed": false,
    "ExecuteTime": {
     "end_time": "2023-06-04T12:18:54.610538846Z",
     "start_time": "2023-06-04T12:18:54.604781773Z"
    }
   }
  },
  {
   "cell_type": "code",
   "execution_count": 12,
   "outputs": [
    {
     "data": {
      "text/plain": "90    90\n91    91\n92    92\n93    93\n94    94\n95    95\n96    96\n97    97\n98    98\n99    99\ndtype: int64"
     },
     "execution_count": 12,
     "metadata": {},
     "output_type": "execute_result"
    }
   ],
   "source": [
    "angka.tail(10)"
   ],
   "metadata": {
    "collapsed": false,
    "ExecuteTime": {
     "end_time": "2023-06-04T12:04:44.292244648Z",
     "start_time": "2023-06-04T12:04:44.285292648Z"
    }
   }
  },
  {
   "cell_type": "code",
   "execution_count": 12,
   "outputs": [],
   "source": [],
   "metadata": {
    "collapsed": false,
    "ExecuteTime": {
     "end_time": "2023-06-04T12:04:44.292434666Z",
     "start_time": "2023-06-04T12:04:44.285555911Z"
    }
   }
  }
 ],
 "metadata": {
  "kernelspec": {
   "display_name": "Python 3",
   "language": "python",
   "name": "python3"
  },
  "language_info": {
   "codemirror_mode": {
    "name": "ipython",
    "version": 2
   },
   "file_extension": ".py",
   "mimetype": "text/x-python",
   "name": "python",
   "nbconvert_exporter": "python",
   "pygments_lexer": "ipython2",
   "version": "2.7.6"
  }
 },
 "nbformat": 4,
 "nbformat_minor": 0
}
