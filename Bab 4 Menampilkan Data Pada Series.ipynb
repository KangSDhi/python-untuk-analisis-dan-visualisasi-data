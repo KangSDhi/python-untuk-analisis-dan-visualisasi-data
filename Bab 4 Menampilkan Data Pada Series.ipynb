{
 "cells": [
  {
   "cell_type": "markdown",
   "source": [
    "# Bab 4 Menmpilkan Data Pada Series\n",
    "\n",
    "## Menampilkan Nilai"
   ],
   "metadata": {
    "collapsed": false
   }
  },
  {
   "cell_type": "code",
   "execution_count": 31,
   "outputs": [
    {
     "name": "stdout",
     "output_type": "stream",
     "text": [
      "Edi Yunani\n",
      "Retno Mimin\n",
      "['Joni Gudel', 'Edi Yunani', 'Toni Sulung']\n"
     ]
    }
   ],
   "source": [
    "teman = ['Joni Gudel', 'Edi Yunani', 'Toni Sulung', 'Retno Mimin']\n",
    "print(teman[1])\n",
    "print(teman[3])\n",
    "print(teman[0:3])"
   ],
   "metadata": {
    "collapsed": false,
    "ExecuteTime": {
     "end_time": "2023-06-04T14:09:59.745309687Z",
     "start_time": "2023-06-04T14:09:59.584902723Z"
    }
   }
  },
  {
   "cell_type": "code",
   "execution_count": 32,
   "outputs": [
    {
     "name": "stdout",
     "output_type": "stream",
     "text": [
      "Joni Gudel\n"
     ]
    }
   ],
   "source": [
    "temanakrab = {0: 'Joni Gudel', 1: 'Edi Yunani', 2: 'Toni Sulung', 3: 'Retno Mimin'}\n",
    "print(temanakrab[0])"
   ],
   "metadata": {
    "collapsed": false,
    "ExecuteTime": {
     "end_time": "2023-06-04T14:09:59.851555905Z",
     "start_time": "2023-06-04T14:09:59.591072619Z"
    }
   }
  },
  {
   "cell_type": "markdown",
   "source": [
    "### Bekerja dengan Series"
   ],
   "metadata": {
    "collapsed": false
   }
  },
  {
   "cell_type": "code",
   "execution_count": 33,
   "outputs": [
    {
     "name": "stdout",
     "output_type": "stream",
     "text": [
      "Joni Gudel\n"
     ]
    }
   ],
   "source": [
    "import pandas as pd\n",
    "c = pd.Series(teman)\n",
    "print(c[0])"
   ],
   "metadata": {
    "collapsed": false,
    "ExecuteTime": {
     "end_time": "2023-06-04T14:09:59.851901934Z",
     "start_time": "2023-06-04T14:09:59.601745377Z"
    }
   }
  },
  {
   "cell_type": "markdown",
   "source": [
    "### Bekerja Dengan Parameter Index"
   ],
   "metadata": {
    "collapsed": false
   }
  },
  {
   "cell_type": "code",
   "execution_count": 34,
   "outputs": [
    {
     "name": "stdout",
     "output_type": "stream",
     "text": [
      "Joni Gudel\n"
     ]
    }
   ],
   "source": [
    "d = pd.Series(data=teman, index=['teman1', 'teman2', 'teman3', 'teman4'])\n",
    "print(d['teman1'])"
   ],
   "metadata": {
    "collapsed": false,
    "ExecuteTime": {
     "end_time": "2023-06-04T14:09:59.852870040Z",
     "start_time": "2023-06-04T14:09:59.605701324Z"
    }
   }
  },
  {
   "cell_type": "code",
   "execution_count": 35,
   "outputs": [
    {
     "name": "stdout",
     "output_type": "stream",
     "text": [
      "teman1     Joni Gudel\n",
      "teman2     Edi Yunani\n",
      "teman3    Toni Sulung\n",
      "teman4    Retno Mimin\n",
      "dtype: object\n"
     ]
    }
   ],
   "source": [
    "print(d['teman1':'teman4'])"
   ],
   "metadata": {
    "collapsed": false,
    "ExecuteTime": {
     "end_time": "2023-06-04T14:09:59.854468474Z",
     "start_time": "2023-06-04T14:09:59.610679480Z"
    }
   }
  },
  {
   "cell_type": "markdown",
   "source": [
    "### Properti .loc"
   ],
   "metadata": {
    "collapsed": false
   }
  },
  {
   "cell_type": "code",
   "execution_count": 36,
   "outputs": [
    {
     "data": {
      "text/plain": "'Joni Gudel'"
     },
     "execution_count": 36,
     "metadata": {},
     "output_type": "execute_result"
    }
   ],
   "source": [
    "a = pd.Series(teman)\n",
    "a.loc[0]"
   ],
   "metadata": {
    "collapsed": false,
    "ExecuteTime": {
     "end_time": "2023-06-04T14:09:59.868304337Z",
     "start_time": "2023-06-04T14:09:59.619558175Z"
    }
   }
  },
  {
   "cell_type": "code",
   "execution_count": 37,
   "outputs": [
    {
     "data": {
      "text/plain": "0     Joni Gudel\n1     Edi Yunani\n2    Toni Sulung\ndtype: object"
     },
     "execution_count": 37,
     "metadata": {},
     "output_type": "execute_result"
    }
   ],
   "source": [
    "a.loc[:2]"
   ],
   "metadata": {
    "collapsed": false,
    "ExecuteTime": {
     "end_time": "2023-06-04T14:09:59.868678093Z",
     "start_time": "2023-06-04T14:09:59.629840048Z"
    }
   }
  },
  {
   "cell_type": "code",
   "execution_count": 38,
   "outputs": [
    {
     "data": {
      "text/plain": "'Edi Yunani'"
     },
     "execution_count": 38,
     "metadata": {},
     "output_type": "execute_result"
    }
   ],
   "source": [
    "d.loc['teman2']"
   ],
   "metadata": {
    "collapsed": false,
    "ExecuteTime": {
     "end_time": "2023-06-04T14:09:59.869715841Z",
     "start_time": "2023-06-04T14:09:59.643204432Z"
    }
   }
  },
  {
   "cell_type": "markdown",
   "source": [
    "## Dot Notation"
   ],
   "metadata": {
    "collapsed": false
   }
  },
  {
   "cell_type": "code",
   "execution_count": 39,
   "outputs": [
    {
     "data": {
      "text/plain": "'Edi Yunani'"
     },
     "execution_count": 39,
     "metadata": {},
     "output_type": "execute_result"
    }
   ],
   "source": [
    "d.teman2"
   ],
   "metadata": {
    "collapsed": false,
    "ExecuteTime": {
     "end_time": "2023-06-04T14:09:59.869911330Z",
     "start_time": "2023-06-04T14:09:59.643647426Z"
    }
   }
  },
  {
   "cell_type": "markdown",
   "source": [
    "Yang perlu dicatat, dot notation baru dapat bekerja pada index yang telah diatur menggunakan properti index pada konstruktor Series, artinya anda tidak bisa menggunakan nomor index yang melekat pada sebuah list dalam bentuk angka."
   ],
   "metadata": {
    "collapsed": false
   }
  },
  {
   "cell_type": "code",
   "execution_count": 40,
   "outputs": [
    {
     "ename": "SyntaxError",
     "evalue": "invalid syntax (948622362.py, line 1)",
     "output_type": "error",
     "traceback": [
      "\u001B[0;36m  Cell \u001B[0;32mIn[40], line 1\u001B[0;36m\u001B[0m\n\u001B[0;31m    a.2\u001B[0m\n\u001B[0m     ^\u001B[0m\n\u001B[0;31mSyntaxError\u001B[0m\u001B[0;31m:\u001B[0m invalid syntax\n"
     ]
    }
   ],
   "source": [
    "a.2"
   ],
   "metadata": {
    "collapsed": false,
    "ExecuteTime": {
     "end_time": "2023-06-04T14:09:59.870852683Z",
     "start_time": "2023-06-04T14:09:59.643882278Z"
    }
   }
  },
  {
   "cell_type": "markdown",
   "source": [
    "## Boolean Mask"
   ],
   "metadata": {
    "collapsed": false
   }
  },
  {
   "cell_type": "code",
   "execution_count": 41,
   "outputs": [
    {
     "data": {
      "text/plain": "0     Joni Gudel\n2    Toni Sulung\ndtype: object"
     },
     "execution_count": 41,
     "metadata": {},
     "output_type": "execute_result"
    }
   ],
   "source": [
    "c.loc[[True, False, True, False]]"
   ],
   "metadata": {
    "collapsed": false,
    "ExecuteTime": {
     "end_time": "2023-06-04T14:09:59.871857151Z",
     "start_time": "2023-06-04T14:09:59.661388563Z"
    }
   }
  },
  {
   "cell_type": "markdown",
   "source": [
    "### Properti Size"
   ],
   "metadata": {
    "collapsed": false
   }
  },
  {
   "cell_type": "code",
   "execution_count": 42,
   "outputs": [
    {
     "ename": "IndexError",
     "evalue": "Boolean index has wrong length: 3 instead of 4",
     "output_type": "error",
     "traceback": [
      "\u001B[0;31m---------------------------------------------------------------------------\u001B[0m",
      "\u001B[0;31mIndexError\u001B[0m                                Traceback (most recent call last)",
      "Cell \u001B[0;32mIn[42], line 1\u001B[0m\n\u001B[0;32m----> 1\u001B[0m \u001B[43mc\u001B[49m\u001B[38;5;241;43m.\u001B[39;49m\u001B[43mloc\u001B[49m\u001B[43m[\u001B[49m\u001B[43m[\u001B[49m\u001B[38;5;28;43;01mTrue\u001B[39;49;00m\u001B[43m,\u001B[49m\u001B[43m \u001B[49m\u001B[38;5;28;43;01mFalse\u001B[39;49;00m\u001B[43m,\u001B[49m\u001B[43m \u001B[49m\u001B[38;5;28;43;01mTrue\u001B[39;49;00m\u001B[43m]\u001B[49m\u001B[43m]\u001B[49m\n",
      "File \u001B[0;32m~/PycharmProjects/python-untuk-analisis-dan-visualisasi-data/venv/lib/python3.11/site-packages/pandas/core/indexing.py:1103\u001B[0m, in \u001B[0;36m_LocationIndexer.__getitem__\u001B[0;34m(self, key)\u001B[0m\n\u001B[1;32m   1100\u001B[0m axis \u001B[38;5;241m=\u001B[39m \u001B[38;5;28mself\u001B[39m\u001B[38;5;241m.\u001B[39maxis \u001B[38;5;129;01mor\u001B[39;00m \u001B[38;5;241m0\u001B[39m\n\u001B[1;32m   1102\u001B[0m maybe_callable \u001B[38;5;241m=\u001B[39m com\u001B[38;5;241m.\u001B[39mapply_if_callable(key, \u001B[38;5;28mself\u001B[39m\u001B[38;5;241m.\u001B[39mobj)\n\u001B[0;32m-> 1103\u001B[0m \u001B[38;5;28;01mreturn\u001B[39;00m \u001B[38;5;28;43mself\u001B[39;49m\u001B[38;5;241;43m.\u001B[39;49m\u001B[43m_getitem_axis\u001B[49m\u001B[43m(\u001B[49m\u001B[43mmaybe_callable\u001B[49m\u001B[43m,\u001B[49m\u001B[43m \u001B[49m\u001B[43maxis\u001B[49m\u001B[38;5;241;43m=\u001B[39;49m\u001B[43maxis\u001B[49m\u001B[43m)\u001B[49m\n",
      "File \u001B[0;32m~/PycharmProjects/python-untuk-analisis-dan-visualisasi-data/venv/lib/python3.11/site-packages/pandas/core/indexing.py:1325\u001B[0m, in \u001B[0;36m_LocIndexer._getitem_axis\u001B[0;34m(self, key, axis)\u001B[0m\n\u001B[1;32m   1323\u001B[0m     \u001B[38;5;28;01mreturn\u001B[39;00m \u001B[38;5;28mself\u001B[39m\u001B[38;5;241m.\u001B[39m_get_slice_axis(key, axis\u001B[38;5;241m=\u001B[39maxis)\n\u001B[1;32m   1324\u001B[0m \u001B[38;5;28;01melif\u001B[39;00m com\u001B[38;5;241m.\u001B[39mis_bool_indexer(key):\n\u001B[0;32m-> 1325\u001B[0m     \u001B[38;5;28;01mreturn\u001B[39;00m \u001B[38;5;28;43mself\u001B[39;49m\u001B[38;5;241;43m.\u001B[39;49m\u001B[43m_getbool_axis\u001B[49m\u001B[43m(\u001B[49m\u001B[43mkey\u001B[49m\u001B[43m,\u001B[49m\u001B[43m \u001B[49m\u001B[43maxis\u001B[49m\u001B[38;5;241;43m=\u001B[39;49m\u001B[43maxis\u001B[49m\u001B[43m)\u001B[49m\n\u001B[1;32m   1326\u001B[0m \u001B[38;5;28;01melif\u001B[39;00m is_list_like_indexer(key):\n\u001B[1;32m   1327\u001B[0m     \u001B[38;5;66;03m# an iterable multi-selection\u001B[39;00m\n\u001B[1;32m   1328\u001B[0m     \u001B[38;5;28;01mif\u001B[39;00m \u001B[38;5;129;01mnot\u001B[39;00m (\u001B[38;5;28misinstance\u001B[39m(key, \u001B[38;5;28mtuple\u001B[39m) \u001B[38;5;129;01mand\u001B[39;00m \u001B[38;5;28misinstance\u001B[39m(labels, MultiIndex)):\n",
      "File \u001B[0;32m~/PycharmProjects/python-untuk-analisis-dan-visualisasi-data/venv/lib/python3.11/site-packages/pandas/core/indexing.py:1121\u001B[0m, in \u001B[0;36m_LocationIndexer._getbool_axis\u001B[0;34m(self, key, axis)\u001B[0m\n\u001B[1;32m   1117\u001B[0m \u001B[38;5;129m@final\u001B[39m\n\u001B[1;32m   1118\u001B[0m \u001B[38;5;28;01mdef\u001B[39;00m \u001B[38;5;21m_getbool_axis\u001B[39m(\u001B[38;5;28mself\u001B[39m, key, axis: AxisInt):\n\u001B[1;32m   1119\u001B[0m     \u001B[38;5;66;03m# caller is responsible for ensuring non-None axis\u001B[39;00m\n\u001B[1;32m   1120\u001B[0m     labels \u001B[38;5;241m=\u001B[39m \u001B[38;5;28mself\u001B[39m\u001B[38;5;241m.\u001B[39mobj\u001B[38;5;241m.\u001B[39m_get_axis(axis)\n\u001B[0;32m-> 1121\u001B[0m     key \u001B[38;5;241m=\u001B[39m \u001B[43mcheck_bool_indexer\u001B[49m\u001B[43m(\u001B[49m\u001B[43mlabels\u001B[49m\u001B[43m,\u001B[49m\u001B[43m \u001B[49m\u001B[43mkey\u001B[49m\u001B[43m)\u001B[49m\n\u001B[1;32m   1122\u001B[0m     inds \u001B[38;5;241m=\u001B[39m key\u001B[38;5;241m.\u001B[39mnonzero()[\u001B[38;5;241m0\u001B[39m]\n\u001B[1;32m   1123\u001B[0m     \u001B[38;5;28;01mreturn\u001B[39;00m \u001B[38;5;28mself\u001B[39m\u001B[38;5;241m.\u001B[39mobj\u001B[38;5;241m.\u001B[39m_take_with_is_copy(inds, axis\u001B[38;5;241m=\u001B[39maxis)\n",
      "File \u001B[0;32m~/PycharmProjects/python-untuk-analisis-dan-visualisasi-data/venv/lib/python3.11/site-packages/pandas/core/indexing.py:2525\u001B[0m, in \u001B[0;36mcheck_bool_indexer\u001B[0;34m(index, key)\u001B[0m\n\u001B[1;32m   2521\u001B[0m \u001B[38;5;28;01melif\u001B[39;00m \u001B[38;5;129;01mnot\u001B[39;00m is_array_like(result):\n\u001B[1;32m   2522\u001B[0m     \u001B[38;5;66;03m# GH 33924\u001B[39;00m\n\u001B[1;32m   2523\u001B[0m     \u001B[38;5;66;03m# key may contain nan elements, check_array_indexer needs bool array\u001B[39;00m\n\u001B[1;32m   2524\u001B[0m     result \u001B[38;5;241m=\u001B[39m pd_array(result, dtype\u001B[38;5;241m=\u001B[39m\u001B[38;5;28mbool\u001B[39m)\n\u001B[0;32m-> 2525\u001B[0m \u001B[38;5;28;01mreturn\u001B[39;00m \u001B[43mcheck_array_indexer\u001B[49m\u001B[43m(\u001B[49m\u001B[43mindex\u001B[49m\u001B[43m,\u001B[49m\u001B[43m \u001B[49m\u001B[43mresult\u001B[49m\u001B[43m)\u001B[49m\n",
      "File \u001B[0;32m~/PycharmProjects/python-untuk-analisis-dan-visualisasi-data/venv/lib/python3.11/site-packages/pandas/core/indexers/utils.py:541\u001B[0m, in \u001B[0;36mcheck_array_indexer\u001B[0;34m(array, indexer)\u001B[0m\n\u001B[1;32m    539\u001B[0m     \u001B[38;5;66;03m# GH26658\u001B[39;00m\n\u001B[1;32m    540\u001B[0m     \u001B[38;5;28;01mif\u001B[39;00m \u001B[38;5;28mlen\u001B[39m(indexer) \u001B[38;5;241m!=\u001B[39m \u001B[38;5;28mlen\u001B[39m(array):\n\u001B[0;32m--> 541\u001B[0m         \u001B[38;5;28;01mraise\u001B[39;00m \u001B[38;5;167;01mIndexError\u001B[39;00m(\n\u001B[1;32m    542\u001B[0m             \u001B[38;5;124mf\u001B[39m\u001B[38;5;124m\"\u001B[39m\u001B[38;5;124mBoolean index has wrong length: \u001B[39m\u001B[38;5;124m\"\u001B[39m\n\u001B[1;32m    543\u001B[0m             \u001B[38;5;124mf\u001B[39m\u001B[38;5;124m\"\u001B[39m\u001B[38;5;132;01m{\u001B[39;00m\u001B[38;5;28mlen\u001B[39m(indexer)\u001B[38;5;132;01m}\u001B[39;00m\u001B[38;5;124m instead of \u001B[39m\u001B[38;5;132;01m{\u001B[39;00m\u001B[38;5;28mlen\u001B[39m(array)\u001B[38;5;132;01m}\u001B[39;00m\u001B[38;5;124m\"\u001B[39m\n\u001B[1;32m    544\u001B[0m         )\n\u001B[1;32m    545\u001B[0m \u001B[38;5;28;01melif\u001B[39;00m is_integer_dtype(dtype):\n\u001B[1;32m    546\u001B[0m     \u001B[38;5;28;01mtry\u001B[39;00m:\n",
      "\u001B[0;31mIndexError\u001B[0m: Boolean index has wrong length: 3 instead of 4"
     ]
    }
   ],
   "source": [
    "c.loc[[True, False, True]]"
   ],
   "metadata": {
    "collapsed": false,
    "ExecuteTime": {
     "start_time": "2023-06-04T14:09:59.668763912Z"
    }
   }
  },
  {
   "cell_type": "code",
   "execution_count": null,
   "outputs": [],
   "source": [
    "c.size"
   ],
   "metadata": {
    "collapsed": false,
    "ExecuteTime": {
     "start_time": "2023-06-04T14:09:59.766826227Z"
    }
   }
  },
  {
   "cell_type": "markdown",
   "source": [
    "### Perulangan For"
   ],
   "metadata": {
    "collapsed": false
   }
  },
  {
   "cell_type": "code",
   "execution_count": null,
   "outputs": [],
   "source": [
    "angka = pd.Series(range(30))\n",
    "angka"
   ],
   "metadata": {
    "collapsed": false,
    "ExecuteTime": {
     "start_time": "2023-06-04T14:09:59.767091622Z"
    }
   }
  },
  {
   "cell_type": "code",
   "execution_count": null,
   "outputs": [],
   "source": [
    "angka.loc[[True for i in range(30)]]"
   ],
   "metadata": {
    "collapsed": false,
    "ExecuteTime": {
     "start_time": "2023-06-04T14:09:59.767294355Z"
    }
   }
  },
  {
   "cell_type": "markdown",
   "source": [
    "### Kondisional If"
   ],
   "metadata": {
    "collapsed": false
   }
  },
  {
   "cell_type": "code",
   "execution_count": null,
   "outputs": [],
   "source": [
    "angka.loc[[True if i%2 == 0 and i <= 14 and i != 0 else False for i in range(30)]]"
   ],
   "metadata": {
    "collapsed": false,
    "ExecuteTime": {
     "start_time": "2023-06-04T14:09:59.767633515Z"
    }
   }
  },
  {
   "cell_type": "markdown",
   "source": [
    "## Method Get()"
   ],
   "metadata": {
    "collapsed": false
   }
  },
  {
   "cell_type": "code",
   "execution_count": null,
   "outputs": [],
   "source": [
    "d.loc['teman5']"
   ],
   "metadata": {
    "collapsed": false,
    "ExecuteTime": {
     "start_time": "2023-06-04T14:09:59.767874312Z"
    }
   }
  },
  {
   "cell_type": "code",
   "execution_count": null,
   "outputs": [],
   "source": [
    "d.get('teman5')"
   ],
   "metadata": {
    "collapsed": false,
    "ExecuteTime": {
     "start_time": "2023-06-04T14:09:59.768134716Z"
    }
   }
  },
  {
   "cell_type": "markdown",
   "source": [
    "### Parameter Default"
   ],
   "metadata": {
    "collapsed": false
   }
  },
  {
   "cell_type": "code",
   "execution_count": null,
   "outputs": [],
   "source": [
    "d.get('teman5', default='Data Tidak Ditemukan')"
   ],
   "metadata": {
    "collapsed": false,
    "ExecuteTime": {
     "start_time": "2023-06-04T14:09:59.768321915Z"
    }
   }
  },
  {
   "cell_type": "code",
   "execution_count": null,
   "outputs": [],
   "source": [
    "c.get(0)"
   ],
   "metadata": {
    "collapsed": false,
    "ExecuteTime": {
     "start_time": "2023-06-04T14:09:59.768526209Z"
    }
   }
  },
  {
   "cell_type": "code",
   "execution_count": null,
   "outputs": [],
   "source": [],
   "metadata": {
    "collapsed": false,
    "ExecuteTime": {
     "start_time": "2023-06-04T14:09:59.768749418Z"
    }
   }
  }
 ],
 "metadata": {
  "kernelspec": {
   "display_name": "Python 3",
   "language": "python",
   "name": "python3"
  },
  "language_info": {
   "codemirror_mode": {
    "name": "ipython",
    "version": 2
   },
   "file_extension": ".py",
   "mimetype": "text/x-python",
   "name": "python",
   "nbconvert_exporter": "python",
   "pygments_lexer": "ipython2",
   "version": "2.7.6"
  }
 },
 "nbformat": 4,
 "nbformat_minor": 0
}
