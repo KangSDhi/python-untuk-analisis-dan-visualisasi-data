{
 "cells": [
  {
   "cell_type": "markdown",
   "source": [
    "# Bab 5 Bekerja Dengan File CSV\n",
    "\n",
    "## Membuka File CSV"
   ],
   "metadata": {
    "collapsed": false
   }
  },
  {
   "cell_type": "code",
   "execution_count": 19,
   "outputs": [
    {
     "data": {
      "text/plain": "               Nama  IPA  IPS  Inggris  Matematika\n0      Bejo Samusir   80   87       85          78\n1          Edi Noor   65   59       94          89\n2    Samsudin Ceria   85   66       64          70\n3   Endang Kumpreni   60   90       79          80\n4        Joni Gudel   50   89       89          50\n5      Dona Ceriwis   60   39       69          80\n6       Soni Samson   70   66       90          90\n7      Joko Ngendon   50   79       96          79\n8   Petrus Kanisius   90   98       79          80\n9     Jupri Pingsut  100   50       98          80\n10      Roki Gembul   59   77       56          90\n11    Ahonk Gituloh   60   89       70          70\n12    Yanuar Mareti   70   69       80          80\n13     Saksi Bissou   80   77       80          90\n14   Raffi Benernih   80   80       79          70\n15     Hotma Dotcom   90   90       80          80",
      "text/html": "<div>\n<style scoped>\n    .dataframe tbody tr th:only-of-type {\n        vertical-align: middle;\n    }\n\n    .dataframe tbody tr th {\n        vertical-align: top;\n    }\n\n    .dataframe thead th {\n        text-align: right;\n    }\n</style>\n<table border=\"1\" class=\"dataframe\">\n  <thead>\n    <tr style=\"text-align: right;\">\n      <th></th>\n      <th>Nama</th>\n      <th>IPA</th>\n      <th>IPS</th>\n      <th>Inggris</th>\n      <th>Matematika</th>\n    </tr>\n  </thead>\n  <tbody>\n    <tr>\n      <th>0</th>\n      <td>Bejo Samusir</td>\n      <td>80</td>\n      <td>87</td>\n      <td>85</td>\n      <td>78</td>\n    </tr>\n    <tr>\n      <th>1</th>\n      <td>Edi Noor</td>\n      <td>65</td>\n      <td>59</td>\n      <td>94</td>\n      <td>89</td>\n    </tr>\n    <tr>\n      <th>2</th>\n      <td>Samsudin Ceria</td>\n      <td>85</td>\n      <td>66</td>\n      <td>64</td>\n      <td>70</td>\n    </tr>\n    <tr>\n      <th>3</th>\n      <td>Endang Kumpreni</td>\n      <td>60</td>\n      <td>90</td>\n      <td>79</td>\n      <td>80</td>\n    </tr>\n    <tr>\n      <th>4</th>\n      <td>Joni Gudel</td>\n      <td>50</td>\n      <td>89</td>\n      <td>89</td>\n      <td>50</td>\n    </tr>\n    <tr>\n      <th>5</th>\n      <td>Dona Ceriwis</td>\n      <td>60</td>\n      <td>39</td>\n      <td>69</td>\n      <td>80</td>\n    </tr>\n    <tr>\n      <th>6</th>\n      <td>Soni Samson</td>\n      <td>70</td>\n      <td>66</td>\n      <td>90</td>\n      <td>90</td>\n    </tr>\n    <tr>\n      <th>7</th>\n      <td>Joko Ngendon</td>\n      <td>50</td>\n      <td>79</td>\n      <td>96</td>\n      <td>79</td>\n    </tr>\n    <tr>\n      <th>8</th>\n      <td>Petrus Kanisius</td>\n      <td>90</td>\n      <td>98</td>\n      <td>79</td>\n      <td>80</td>\n    </tr>\n    <tr>\n      <th>9</th>\n      <td>Jupri Pingsut</td>\n      <td>100</td>\n      <td>50</td>\n      <td>98</td>\n      <td>80</td>\n    </tr>\n    <tr>\n      <th>10</th>\n      <td>Roki Gembul</td>\n      <td>59</td>\n      <td>77</td>\n      <td>56</td>\n      <td>90</td>\n    </tr>\n    <tr>\n      <th>11</th>\n      <td>Ahonk Gituloh</td>\n      <td>60</td>\n      <td>89</td>\n      <td>70</td>\n      <td>70</td>\n    </tr>\n    <tr>\n      <th>12</th>\n      <td>Yanuar Mareti</td>\n      <td>70</td>\n      <td>69</td>\n      <td>80</td>\n      <td>80</td>\n    </tr>\n    <tr>\n      <th>13</th>\n      <td>Saksi Bissou</td>\n      <td>80</td>\n      <td>77</td>\n      <td>80</td>\n      <td>90</td>\n    </tr>\n    <tr>\n      <th>14</th>\n      <td>Raffi Benernih</td>\n      <td>80</td>\n      <td>80</td>\n      <td>79</td>\n      <td>70</td>\n    </tr>\n    <tr>\n      <th>15</th>\n      <td>Hotma Dotcom</td>\n      <td>90</td>\n      <td>90</td>\n      <td>80</td>\n      <td>80</td>\n    </tr>\n  </tbody>\n</table>\n</div>"
     },
     "execution_count": 19,
     "metadata": {},
     "output_type": "execute_result"
    }
   ],
   "source": [
    "import pandas as pd\n",
    "pd.read_csv('data/datamurid.csv')"
   ],
   "metadata": {
    "collapsed": false,
    "ExecuteTime": {
     "end_time": "2023-06-06T05:42:12.498217031Z",
     "start_time": "2023-06-06T05:42:12.394762869Z"
    }
   }
  },
  {
   "cell_type": "markdown",
   "source": [
    "### Menggunakan Parameter Sep"
   ],
   "metadata": {
    "collapsed": false
   }
  },
  {
   "cell_type": "code",
   "execution_count": 20,
   "outputs": [
    {
     "data": {
      "text/plain": "               Nama  IPA  IPS  Inggris  Matematika\n0      Bejo Samusir   80   87       85          78\n1          Edi Noor   65   59       94          89\n2    Samsudin Ceria   85   66       64          70\n3   Endang Kumpreni   60   90       79          80\n4        Joni Gudel   50   89       89          50\n5      Dona Ceriwis   60   39       69          80\n6       Soni Samson   70   66       90          90\n7      Joko Ngendon   50   79       96          79\n8   Petrus Kanisius   90   98       79          80\n9     Jupri Pingsut  100   50       98          80\n10      Roki Gembul   59   77       56          90\n11    Ahonk Gituloh   60   89       70          70\n12    Yanuar Mareti   70   69       80          80\n13     Saksi Bissou   80   77       80          90\n14   Raffi Benernih   80   80       79          70\n15     Hotma Dotcom   90   90       80          80",
      "text/html": "<div>\n<style scoped>\n    .dataframe tbody tr th:only-of-type {\n        vertical-align: middle;\n    }\n\n    .dataframe tbody tr th {\n        vertical-align: top;\n    }\n\n    .dataframe thead th {\n        text-align: right;\n    }\n</style>\n<table border=\"1\" class=\"dataframe\">\n  <thead>\n    <tr style=\"text-align: right;\">\n      <th></th>\n      <th>Nama</th>\n      <th>IPA</th>\n      <th>IPS</th>\n      <th>Inggris</th>\n      <th>Matematika</th>\n    </tr>\n  </thead>\n  <tbody>\n    <tr>\n      <th>0</th>\n      <td>Bejo Samusir</td>\n      <td>80</td>\n      <td>87</td>\n      <td>85</td>\n      <td>78</td>\n    </tr>\n    <tr>\n      <th>1</th>\n      <td>Edi Noor</td>\n      <td>65</td>\n      <td>59</td>\n      <td>94</td>\n      <td>89</td>\n    </tr>\n    <tr>\n      <th>2</th>\n      <td>Samsudin Ceria</td>\n      <td>85</td>\n      <td>66</td>\n      <td>64</td>\n      <td>70</td>\n    </tr>\n    <tr>\n      <th>3</th>\n      <td>Endang Kumpreni</td>\n      <td>60</td>\n      <td>90</td>\n      <td>79</td>\n      <td>80</td>\n    </tr>\n    <tr>\n      <th>4</th>\n      <td>Joni Gudel</td>\n      <td>50</td>\n      <td>89</td>\n      <td>89</td>\n      <td>50</td>\n    </tr>\n    <tr>\n      <th>5</th>\n      <td>Dona Ceriwis</td>\n      <td>60</td>\n      <td>39</td>\n      <td>69</td>\n      <td>80</td>\n    </tr>\n    <tr>\n      <th>6</th>\n      <td>Soni Samson</td>\n      <td>70</td>\n      <td>66</td>\n      <td>90</td>\n      <td>90</td>\n    </tr>\n    <tr>\n      <th>7</th>\n      <td>Joko Ngendon</td>\n      <td>50</td>\n      <td>79</td>\n      <td>96</td>\n      <td>79</td>\n    </tr>\n    <tr>\n      <th>8</th>\n      <td>Petrus Kanisius</td>\n      <td>90</td>\n      <td>98</td>\n      <td>79</td>\n      <td>80</td>\n    </tr>\n    <tr>\n      <th>9</th>\n      <td>Jupri Pingsut</td>\n      <td>100</td>\n      <td>50</td>\n      <td>98</td>\n      <td>80</td>\n    </tr>\n    <tr>\n      <th>10</th>\n      <td>Roki Gembul</td>\n      <td>59</td>\n      <td>77</td>\n      <td>56</td>\n      <td>90</td>\n    </tr>\n    <tr>\n      <th>11</th>\n      <td>Ahonk Gituloh</td>\n      <td>60</td>\n      <td>89</td>\n      <td>70</td>\n      <td>70</td>\n    </tr>\n    <tr>\n      <th>12</th>\n      <td>Yanuar Mareti</td>\n      <td>70</td>\n      <td>69</td>\n      <td>80</td>\n      <td>80</td>\n    </tr>\n    <tr>\n      <th>13</th>\n      <td>Saksi Bissou</td>\n      <td>80</td>\n      <td>77</td>\n      <td>80</td>\n      <td>90</td>\n    </tr>\n    <tr>\n      <th>14</th>\n      <td>Raffi Benernih</td>\n      <td>80</td>\n      <td>80</td>\n      <td>79</td>\n      <td>70</td>\n    </tr>\n    <tr>\n      <th>15</th>\n      <td>Hotma Dotcom</td>\n      <td>90</td>\n      <td>90</td>\n      <td>80</td>\n      <td>80</td>\n    </tr>\n  </tbody>\n</table>\n</div>"
     },
     "execution_count": 20,
     "metadata": {},
     "output_type": "execute_result"
    }
   ],
   "source": [
    "pd.read_csv('data/datamurid.csv', sep=',')"
   ],
   "metadata": {
    "collapsed": false,
    "ExecuteTime": {
     "end_time": "2023-06-06T05:42:12.499593520Z",
     "start_time": "2023-06-06T05:42:12.405593321Z"
    }
   }
  },
  {
   "cell_type": "markdown",
   "source": [
    "## Series dan DataFrame"
   ],
   "metadata": {
    "collapsed": false
   }
  },
  {
   "cell_type": "code",
   "execution_count": 21,
   "outputs": [],
   "source": [
    "teman = ['Joni Gudel', 'Edi Yunani', 'Toni Sulung', 'Retno Mimin']"
   ],
   "metadata": {
    "collapsed": false,
    "ExecuteTime": {
     "end_time": "2023-06-06T05:42:12.499749494Z",
     "start_time": "2023-06-06T05:42:12.414369749Z"
    }
   }
  },
  {
   "cell_type": "markdown",
   "source": [
    "#### Menggunakan Type"
   ],
   "metadata": {
    "collapsed": false
   }
  },
  {
   "cell_type": "code",
   "execution_count": 22,
   "outputs": [
    {
     "data": {
      "text/plain": "pandas.core.series.Series"
     },
     "execution_count": 22,
     "metadata": {},
     "output_type": "execute_result"
    }
   ],
   "source": [
    "tm = pd.Series(teman)\n",
    "type(tm)"
   ],
   "metadata": {
    "collapsed": false,
    "ExecuteTime": {
     "end_time": "2023-06-06T05:42:12.501514115Z",
     "start_time": "2023-06-06T05:42:12.419090933Z"
    }
   }
  },
  {
   "cell_type": "code",
   "execution_count": 23,
   "outputs": [
    {
     "data": {
      "text/plain": "pandas.core.frame.DataFrame"
     },
     "execution_count": 23,
     "metadata": {},
     "output_type": "execute_result"
    }
   ],
   "source": [
    "nilaisiswa = pd.read_csv('data/datamurid.csv')\n",
    "type(nilaisiswa)"
   ],
   "metadata": {
    "collapsed": false,
    "ExecuteTime": {
     "end_time": "2023-06-06T05:42:12.501760520Z",
     "start_time": "2023-06-06T05:42:12.433890023Z"
    }
   }
  },
  {
   "cell_type": "markdown",
   "source": [
    "### Usecols"
   ],
   "metadata": {
    "collapsed": false
   }
  },
  {
   "cell_type": "code",
   "execution_count": 24,
   "outputs": [
    {
     "data": {
      "text/plain": "               Nama  Inggris\n0      Bejo Samusir       85\n1          Edi Noor       94\n2    Samsudin Ceria       64\n3   Endang Kumpreni       79\n4        Joni Gudel       89\n5      Dona Ceriwis       69\n6       Soni Samson       90\n7      Joko Ngendon       96\n8   Petrus Kanisius       79\n9     Jupri Pingsut       98\n10      Roki Gembul       56\n11    Ahonk Gituloh       70\n12    Yanuar Mareti       80\n13     Saksi Bissou       80\n14   Raffi Benernih       79\n15     Hotma Dotcom       80",
      "text/html": "<div>\n<style scoped>\n    .dataframe tbody tr th:only-of-type {\n        vertical-align: middle;\n    }\n\n    .dataframe tbody tr th {\n        vertical-align: top;\n    }\n\n    .dataframe thead th {\n        text-align: right;\n    }\n</style>\n<table border=\"1\" class=\"dataframe\">\n  <thead>\n    <tr style=\"text-align: right;\">\n      <th></th>\n      <th>Nama</th>\n      <th>Inggris</th>\n    </tr>\n  </thead>\n  <tbody>\n    <tr>\n      <th>0</th>\n      <td>Bejo Samusir</td>\n      <td>85</td>\n    </tr>\n    <tr>\n      <th>1</th>\n      <td>Edi Noor</td>\n      <td>94</td>\n    </tr>\n    <tr>\n      <th>2</th>\n      <td>Samsudin Ceria</td>\n      <td>64</td>\n    </tr>\n    <tr>\n      <th>3</th>\n      <td>Endang Kumpreni</td>\n      <td>79</td>\n    </tr>\n    <tr>\n      <th>4</th>\n      <td>Joni Gudel</td>\n      <td>89</td>\n    </tr>\n    <tr>\n      <th>5</th>\n      <td>Dona Ceriwis</td>\n      <td>69</td>\n    </tr>\n    <tr>\n      <th>6</th>\n      <td>Soni Samson</td>\n      <td>90</td>\n    </tr>\n    <tr>\n      <th>7</th>\n      <td>Joko Ngendon</td>\n      <td>96</td>\n    </tr>\n    <tr>\n      <th>8</th>\n      <td>Petrus Kanisius</td>\n      <td>79</td>\n    </tr>\n    <tr>\n      <th>9</th>\n      <td>Jupri Pingsut</td>\n      <td>98</td>\n    </tr>\n    <tr>\n      <th>10</th>\n      <td>Roki Gembul</td>\n      <td>56</td>\n    </tr>\n    <tr>\n      <th>11</th>\n      <td>Ahonk Gituloh</td>\n      <td>70</td>\n    </tr>\n    <tr>\n      <th>12</th>\n      <td>Yanuar Mareti</td>\n      <td>80</td>\n    </tr>\n    <tr>\n      <th>13</th>\n      <td>Saksi Bissou</td>\n      <td>80</td>\n    </tr>\n    <tr>\n      <th>14</th>\n      <td>Raffi Benernih</td>\n      <td>79</td>\n    </tr>\n    <tr>\n      <th>15</th>\n      <td>Hotma Dotcom</td>\n      <td>80</td>\n    </tr>\n  </tbody>\n</table>\n</div>"
     },
     "execution_count": 24,
     "metadata": {},
     "output_type": "execute_result"
    }
   ],
   "source": [
    "pd.read_csv('data/datamurid.csv', sep=',', usecols=['Nama', 'Inggris'])"
   ],
   "metadata": {
    "collapsed": false,
    "ExecuteTime": {
     "end_time": "2023-06-06T05:42:12.518537360Z",
     "start_time": "2023-06-06T05:42:12.434463457Z"
    }
   }
  },
  {
   "cell_type": "markdown",
   "source": [
    "## Squeeze"
   ],
   "metadata": {
    "collapsed": false
   }
  },
  {
   "cell_type": "code",
   "execution_count": 25,
   "outputs": [
    {
     "data": {
      "text/plain": "pandas.core.series.Series"
     },
     "execution_count": 25,
     "metadata": {},
     "output_type": "execute_result"
    }
   ],
   "source": [
    "namasiswa = pd.read_csv('data/datamurid.csv', sep=',', usecols=['Nama']).squeeze()\n",
    "type(namasiswa)"
   ],
   "metadata": {
    "collapsed": false,
    "ExecuteTime": {
     "end_time": "2023-06-06T05:42:12.519872609Z",
     "start_time": "2023-06-06T05:42:12.441484766Z"
    }
   }
  },
  {
   "cell_type": "code",
   "execution_count": 26,
   "outputs": [
    {
     "data": {
      "text/plain": "0        Bejo Samusir\n1            Edi Noor\n2      Samsudin Ceria\n3     Endang Kumpreni\n4          Joni Gudel\n5        Dona Ceriwis\n6         Soni Samson\n7        Joko Ngendon\n8     Petrus Kanisius\n9       Jupri Pingsut\n10        Roki Gembul\n11      Ahonk Gituloh\n12      Yanuar Mareti\n13       Saksi Bissou\n14     Raffi Benernih\n15       Hotma Dotcom\nName: Nama, dtype: object"
     },
     "execution_count": 26,
     "metadata": {},
     "output_type": "execute_result"
    }
   ],
   "source": [
    "namasiswa"
   ],
   "metadata": {
    "collapsed": false,
    "ExecuteTime": {
     "end_time": "2023-06-06T05:42:12.520166643Z",
     "start_time": "2023-06-06T05:42:12.485574720Z"
    }
   }
  },
  {
   "cell_type": "markdown",
   "source": [
    "## Parameter index_col"
   ],
   "metadata": {
    "collapsed": false
   }
  },
  {
   "cell_type": "code",
   "execution_count": 27,
   "outputs": [
    {
     "data": {
      "text/plain": "Nama\nBejo Samusir        80\nEdi Noor            65\nSamsudin Ceria      85\nEndang Kumpreni     60\nJoni Gudel          50\nDona Ceriwis        60\nSoni Samson         70\nJoko Ngendon        50\nPetrus Kanisius     90\nJupri Pingsut      100\nRoki Gembul         59\nAhonk Gituloh       60\nYanuar Mareti       70\nSaksi Bissou        80\nRaffi Benernih      80\nHotma Dotcom        90\nName: IPA, dtype: int64"
     },
     "execution_count": 27,
     "metadata": {},
     "output_type": "execute_result"
    }
   ],
   "source": [
    "pd.read_csv('data/datamurid.csv', sep=',', usecols=['Nama', 'IPA'], index_col='Nama').squeeze()"
   ],
   "metadata": {
    "collapsed": false,
    "ExecuteTime": {
     "end_time": "2023-06-06T05:42:12.520392563Z",
     "start_time": "2023-06-06T05:42:12.486084653Z"
    }
   }
  },
  {
   "cell_type": "code",
   "execution_count": 27,
   "outputs": [],
   "source": [],
   "metadata": {
    "collapsed": false,
    "ExecuteTime": {
     "end_time": "2023-06-06T05:42:12.520509048Z",
     "start_time": "2023-06-06T05:42:12.486526988Z"
    }
   }
  }
 ],
 "metadata": {
  "kernelspec": {
   "display_name": "Python 3",
   "language": "python",
   "name": "python3"
  },
  "language_info": {
   "codemirror_mode": {
    "name": "ipython",
    "version": 2
   },
   "file_extension": ".py",
   "mimetype": "text/x-python",
   "name": "python",
   "nbconvert_exporter": "python",
   "pygments_lexer": "ipython2",
   "version": "2.7.6"
  }
 },
 "nbformat": 4,
 "nbformat_minor": 0
}
