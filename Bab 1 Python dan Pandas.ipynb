{
 "cells": [
  {
   "cell_type": "markdown",
   "source": [
    "# Bab 1 Python dan Pandas\n",
    "\n",
    "## Menulis Kode Program"
   ],
   "metadata": {
    "collapsed": false
   }
  },
  {
   "cell_type": "code",
   "execution_count": 12,
   "outputs": [],
   "source": [
    "halo = 'Halo Dunia'"
   ],
   "metadata": {
    "collapsed": false,
    "ExecuteTime": {
     "end_time": "2023-06-04T02:37:05.876069933Z",
     "start_time": "2023-06-04T02:37:05.860127280Z"
    }
   }
  },
  {
   "cell_type": "code",
   "execution_count": 13,
   "outputs": [
    {
     "name": "stdout",
     "output_type": "stream",
     "text": [
      "Nama Saya Sigit Boworaharjo\n",
      "Halo Dunia\n"
     ]
    }
   ],
   "source": [
    "print('Nama Saya Sigit Boworaharjo')\n",
    "print(halo)"
   ],
   "metadata": {
    "collapsed": false,
    "ExecuteTime": {
     "end_time": "2023-06-04T02:37:05.877118647Z",
     "start_time": "2023-06-04T02:37:05.872435366Z"
    }
   }
  },
  {
   "cell_type": "markdown",
   "source": [
    "### Setiap Sel Code Bisa Di-Run Secara Terpisah"
   ],
   "metadata": {
    "collapsed": false
   }
  },
  {
   "cell_type": "code",
   "execution_count": 14,
   "outputs": [
    {
     "name": "stdout",
     "output_type": "stream",
     "text": [
      "26\n"
     ]
    }
   ],
   "source": [
    "x = 2 + 24\n",
    "print(x)"
   ],
   "metadata": {
    "collapsed": false,
    "ExecuteTime": {
     "end_time": "2023-06-04T02:37:05.927898230Z",
     "start_time": "2023-06-04T02:37:05.872852312Z"
    }
   }
  },
  {
   "cell_type": "code",
   "execution_count": 15,
   "outputs": [
    {
     "name": "stdout",
     "output_type": "stream",
     "text": [
      "Usiaku Adalah\n",
      "26\n"
     ]
    }
   ],
   "source": [
    "print(\"Usiaku Adalah\")\n",
    "print(x)"
   ],
   "metadata": {
    "collapsed": false,
    "ExecuteTime": {
     "end_time": "2023-06-04T02:37:05.928608587Z",
     "start_time": "2023-06-04T02:37:05.918322330Z"
    }
   }
  },
  {
   "cell_type": "markdown",
   "source": [
    "## Mengimport Pandas"
   ],
   "metadata": {
    "collapsed": false
   }
  },
  {
   "cell_type": "code",
   "execution_count": 16,
   "outputs": [],
   "source": [
    "import pandas as pd"
   ],
   "metadata": {
    "collapsed": false,
    "ExecuteTime": {
     "end_time": "2023-06-04T02:37:05.930605521Z",
     "start_time": "2023-06-04T02:37:05.918980343Z"
    }
   }
  },
  {
   "cell_type": "markdown",
   "source": [
    "## Menguji Pandas"
   ],
   "metadata": {
    "collapsed": false
   }
  },
  {
   "cell_type": "code",
   "execution_count": 17,
   "outputs": [
    {
     "name": "stdout",
     "output_type": "stream",
     "text": [
      "2.0.2\n"
     ]
    }
   ],
   "source": [
    "print(pd.__version__)"
   ],
   "metadata": {
    "collapsed": false,
    "ExecuteTime": {
     "end_time": "2023-06-04T02:37:05.931202069Z",
     "start_time": "2023-06-04T02:37:05.919198112Z"
    }
   }
  }
 ],
 "metadata": {
  "kernelspec": {
   "display_name": "Python 3",
   "language": "python",
   "name": "python3"
  },
  "language_info": {
   "codemirror_mode": {
    "name": "ipython",
    "version": 2
   },
   "file_extension": ".py",
   "mimetype": "text/x-python",
   "name": "python",
   "nbconvert_exporter": "python",
   "pygments_lexer": "ipython2",
   "version": "2.7.6"
  }
 },
 "nbformat": 4,
 "nbformat_minor": 0
}
